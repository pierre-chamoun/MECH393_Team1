{
 "cells": [
  {
   "cell_type": "code",
   "execution_count": 63,
   "metadata": {},
   "outputs": [],
   "source": [
    "import numpy as np\n",
    "from bending_equations import Kt_key, Kts_key, Kf_key, Kfs_key"
   ]
  },
  {
   "cell_type": "markdown",
   "metadata": {},
   "source": [
    "### Key Width"
   ]
  },
  {
   "cell_type": "code",
   "execution_count": 64,
   "metadata": {},
   "outputs": [],
   "source": [
    "# Nominal key width\n",
    "dg1 = 1.84 # diameter of shaft at gear 1\n",
    "dp2 = 2.2 # diameter of shaft at pinion 2\n",
    "dg2 = 2.51 # diameter of shaft at gear 2\n",
    "dp1 = 1.47 # diameter of shaft at pinion 1\n",
    "\n",
    "w = 0 \n",
    "\n",
    "def key_width(d):\n",
    "    if 0.312 < d <= 0.437:\n",
    "        w = 0.093\n",
    "    elif 0.437 < d <= 0.562:\n",
    "        w = 0.125\n",
    "    elif 0.562 < d <= 0.875:\n",
    "        w = 0.187\n",
    "    elif 0.875  < d <= 1.25:\n",
    "        w = 0.25\n",
    "    elif 1.25 < d <= 1.375:\n",
    "        w = 0.312\n",
    "    elif 1.375 < d <= 1.75:\n",
    "        w = 0.375\n",
    "    elif 1.75  < d <= 2.25:\n",
    "        w = 0.5\n",
    "    elif 2.25  < d <= 2.75:\n",
    "        w = 0.625\n",
    "    elif 2.75  < d <= 3.25:\n",
    "        w = 0.75\n",
    "    elif 3.25 < d <= 3.75:\n",
    "        w = 0.875\n",
    "    elif 3.75 < d <= 4.5:\n",
    "        w = 1.0\n",
    "    elif 4.5 < d <= 5.5:\n",
    "        w = 1.25\n",
    "    elif 5.5 < d <= 6.5:\n",
    "        w = 1.5\n",
    "\n",
    "    return w"
   ]
  },
  {
   "cell_type": "code",
   "execution_count": 65,
   "metadata": {},
   "outputs": [
    {
     "name": "stdout",
     "output_type": "stream",
     "text": [
      "wg1 is 0.5\n",
      "wp2 is 0.5\n",
      "wg2 is 0.625\n",
      "wp1 is 0.375\n"
     ]
    }
   ],
   "source": [
    "wg1 = key_width(dg1) \n",
    "print('wg1 is', wg1)\n",
    "\n",
    "wp2 = key_width(dp2) \n",
    "print('wp2 is', wp2)\n",
    "\n",
    "wg2 = key_width(dg2)\n",
    "print('wg2 is', wg2)\n",
    "\n",
    "wp1 = key_width(dp1)\n",
    "print('wp1 is', wp1)"
   ]
  },
  {
   "cell_type": "markdown",
   "metadata": {},
   "source": [
    "### Forces & Torques"
   ]
  },
  {
   "cell_type": "code",
   "execution_count": 66,
   "metadata": {},
   "outputs": [],
   "source": [
    "Se = 32500\n",
    "Sut = 65000\n",
    "Sy = 38000\n",
    "Sf = Se\n",
    "r = 0.010 # end mill radius\n",
    "\n",
    "Ma_g1, Mm_g1, Ta_g1, Tm_g1 = 232.38, 985.58, 1307.25, 5664.76 \n",
    "Ma_p2, Mm_p2, Ta_p2, Tm_p2 = 1745.3, 7505.82, 1307.25, 5664.76 \n",
    "Ma_g2 , Mm_g2, Ta_g2, Tm_g2 = 0, 352.97, 10016.3909, 43404.36059\n",
    "Ma_p1, Mm_p1, Ta_p1, Tm_p1 = 0, 2.2, 682.4464488, 2957.267945\n",
    "\n",
    "Fa_g1, Fm_g1 = Ta_g1 / (dg1/2), Tm_g1 / (dg1/2)\n",
    "Fa_p2, Fm_p2 = Ta_p2 / (dp2/2), Tm_p2 / (dp2/2)\n",
    "Fa_g2, Fm_g2 = 10016.39 / (dg2/2), 43404.36 / (dg2/2)\n",
    "Fa_p1, Fm_p1 = 682.4464 / (dp1/2), 2957.286 / (dp1/2)"
   ]
  },
  {
   "cell_type": "code",
   "execution_count": 67,
   "metadata": {},
   "outputs": [],
   "source": [
    "def Safety_Factors(d, r, Fa, Fm, L, w, Ma, Mm, Ta, Tm):\n",
    "    # Kt = Kt_key(d, r)\n",
    "    Kf = Kf_key(d, r)\n",
    "    Kfs = Kfs_key(d, r)\n",
    "    A_shear = w * L\n",
    "    tau_a = Fa / A_shear\n",
    "    tau_m = Fm / A_shear\n",
    "\n",
    "    # sigma_a = np.sqrt(3 * tau_a**2)\n",
    "    # sigma_m = np.sqrt(3 * tau_m**2)\n",
    "\n",
    "    # Nf = 1 / ((sigma_a/Se) + (sigma_m/Sut)) # fatigue SF\n",
    "\n",
    "    A_bearing = w/2 * L\n",
    "    sigma_max = (Fa + Fm) / A_bearing\n",
    "    Ns = Sy / sigma_max # bearing SF for key\n",
    "\n",
    "\n",
    "    # Compute new SF:\n",
    "    Nf_new = (d ** 3 * np.pi / 32) / (((np.sqrt((Kf*Ma)**2 + (3/4)*(Kfs*Ta)**2))/Sf + np.sqrt((Kf*Mm)**2 + (3/4)*(Kfs*Tm)**2)/Sut))\n",
    "    \n",
    "    return Ns, Nf_new"
   ]
  },
  {
   "cell_type": "code",
   "execution_count": 68,
   "metadata": {},
   "outputs": [],
   "source": [
    "# Bearing SF for key failure = Ns \n",
    "# Updated SF for shaft failure = Nf_new\n",
    "\n",
    "# Want Ns < Nf_new for acceptable design ??"
   ]
  },
  {
   "cell_type": "markdown",
   "metadata": {},
   "source": [
    "#### L of key for gear 1"
   ]
  },
  {
   "cell_type": "code",
   "execution_count": 69,
   "metadata": {},
   "outputs": [
    {
     "name": "stdout",
     "output_type": "stream",
     "text": [
      "Ns gear 1 is 1.8803759604475614 \n",
      "Nf_new gear 1 is 2.017545135156302\n",
      "Acceptable design for gear 1 since Ns < Nf_New, Lg1 = 1.5\n"
     ]
    }
   ],
   "source": [
    "Lg1 = 1.50 # max is 1.609\n",
    "gear1 = Safety_Factors(dg1, r, Fa_g1, Fm_g1, Lg1, wg1, Ma_g1, Mm_g1, Ta_g1, Tm_g1)\n",
    "Ns, Nf_new = gear1[0], gear1[1]\n",
    "print('Ns gear 1 is', Ns, '\\n''Nf_new gear 1 is', Nf_new)\n",
    "\n",
    "if Ns < Nf_new:\n",
    "    print('Acceptable design for gear 1 since Ns < Nf_New, Lg1 =', Lg1)\n",
    "else:\n",
    "    print('Unacceptable design since Ns > Nf_new')"
   ]
  },
  {
   "cell_type": "markdown",
   "metadata": {},
   "source": [
    "#### L for key for pinion 2"
   ]
  },
  {
   "cell_type": "code",
   "execution_count": 70,
   "metadata": {},
   "outputs": [
    {
     "name": "stdout",
     "output_type": "stream",
     "text": [
      "Ns pinion 2 is 1.6487354435808326 \n",
      "Nf_new pinion 2 is 2.0269745577781064\n",
      "Acceptable design for pinion 2 since Ns < Nf_New, Lp2 = 1.1\n"
     ]
    }
   ],
   "source": [
    "Lp2 = 1.10 # max is 1.352\n",
    "pinion2 = Safety_Factors(dp2, r,  Fa_p2, Fm_p2, Lp2, wp2, Ma_p2, Mm_p2, Ta_p2, Tm_p2)\n",
    "Ns, Nf_new = pinion2[0], pinion2[1]\n",
    "print('Ns pinion 2 is', Ns, '\\n''Nf_new pinion 2 is', Nf_new)\n",
    "\n",
    "if Ns < Nf_new:\n",
    "    print('Acceptable design for pinion 2 since Ns < Nf_New, Lp2 =', Lp2)\n",
    "else:\n",
    "    print('Unacceptable design since Ns > Nf_new')"
   ]
  },
  {
   "cell_type": "markdown",
   "metadata": {},
   "source": [
    "#### L of key for gear 2"
   ]
  },
  {
   "cell_type": "code",
   "execution_count": 71,
   "metadata": {},
   "outputs": [
    {
     "name": "stdout",
     "output_type": "stream",
     "text": [
      "Ns gear 2 is 0.6276967517303669 \n",
      "Nf_new gear 2 is 0.6793443876057117\n",
      "Acceptable design for gear 2 since Ns < Nf_New, Lg2 = 2.25\n"
     ]
    }
   ],
   "source": [
    "Lg2 = 2.25 # max is 2.43\n",
    "gear2 = Safety_Factors(dg2, r, Fa_g2, Fm_g2, Lg2, wg2, Ma_g2, Mm_g2, Ta_g2, Tm_g2)\n",
    "Ns, Nf_new = gear2[0], gear2[1]\n",
    "print('Ns gear 2 is', Ns, '\\n''Nf_new gear 2 is', Nf_new)\n",
    "\n",
    "if Ns < Nf_new:\n",
    "    print('Acceptable design for gear 2 since Ns < Nf_New, Lg2 =', Lg2)\n",
    "else:\n",
    "    print('Unacceptable design since Ns > Nf_new')"
   ]
  },
  {
   "cell_type": "markdown",
   "metadata": {},
   "source": [
    "#### L for key for pinion 1"
   ]
  },
  {
   "cell_type": "code",
   "execution_count": 72,
   "metadata": {},
   "outputs": [
    {
     "name": "stdout",
     "output_type": "stream",
     "text": [
      "Ns pinion 1 is 1.7265692389913059 \n",
      "Nf_new pinion 1 is 2.0029703819665277\n",
      "Acceptable design for pinion 1 since Ns < Nf_New, Lp1 = 1.2\n"
     ]
    }
   ],
   "source": [
    "Lp1 = 1.20 # max is 1.39\n",
    "pinion1 = Safety_Factors(dp1, r,  Fa_p1, Fm_p1, Lp1, wp1, Ma_p1, Mm_p1, Ta_p1, Tm_p1)\n",
    "Ns, Nf_new = pinion1[0], pinion1[1]\n",
    "print('Ns pinion 1 is', Ns, '\\n''Nf_new pinion 1 is', Nf_new)\n",
    "\n",
    "if Ns < Nf_new:\n",
    "    print('Acceptable design for pinion 1 since Ns < Nf_New, Lp1 =', Lp1)\n",
    "else:\n",
    "    print('Unacceptable design since Ns > Nf_new')"
   ]
  }
 ],
 "metadata": {
  "kernelspec": {
   "display_name": "Python 3",
   "language": "python",
   "name": "python3"
  },
  "language_info": {
   "codemirror_mode": {
    "name": "ipython",
    "version": 3
   },
   "file_extension": ".py",
   "mimetype": "text/x-python",
   "name": "python",
   "nbconvert_exporter": "python",
   "pygments_lexer": "ipython3",
   "version": "3.11.9"
  }
 },
 "nbformat": 4,
 "nbformat_minor": 2
}
