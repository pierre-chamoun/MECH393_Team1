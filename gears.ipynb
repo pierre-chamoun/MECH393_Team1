{
 "cells": [
  {
   "cell_type": "code",
   "execution_count": 1,
   "metadata": {},
   "outputs": [],
   "source": [
    "import numpy as np\n",
    "import matplotlib.pyplot as plt\n",
    "import tools.agma_equations as agma_equations\n",
    "import materials.ferrium_c61 as ferrium_c61"
   ]
  },
  {
   "cell_type": "code",
   "execution_count": 2,
   "metadata": {},
   "outputs": [],
   "source": [
    "velocity_ratio = np.sqrt(0.075)     # Velocity ratio for a single stage\n",
    "gear_ratio = 1 / velocity_ratio     # Torque ratio for a single stage\n",
    "load_factor = 1.05                  # Load factor for each branch of the gearbox\n",
    "safety_factor = 1.5                 # Safety factor for the aerospace industry\n",
    "\n",
    "# Material propreties for Ferrium C61\n",
    "allowable_bending_stress = ferrium_c61.bending_fatigue_strength / safety_factor\n",
    "allowable_surface_stress = ferrium_c61.surface_fatigue_strength / safety_factor ** 0.5 \n",
    "\n",
    "Np = np.arange(21,38)               # The range of possible number of pinio teeth \n",
    "Ng = np.round(Np / velocity_ratio)  # The range of possible gear number of teeth\n",
    "\n",
    "fw_res = 201                            # Grid resolution for discretizing the face widths\n",
    "fw_1 = np.linspace(0.8, 5, fw_res)      # Range of face widths for first-stage \n",
    "fw_2 = np.linspace(0.8, 5, fw_res)      # Range of face widths for second-stage\n"
   ]
  },
  {
   "cell_type": "code",
   "execution_count": 3,
   "metadata": {},
   "outputs": [],
   "source": [
    "# Torque and rotational speed on the first pinion: data found in Table 2 of report\n",
    "torque_p1 = 3639.71439      # lb-in, Maximum possible torque\n",
    "rot_speed_p1 = 2094.39510   # rad/s, Maximum possible rotational speed\n",
    "\n",
    "# Maximum torque and rotational speed on the first gear\n",
    "# The following equations are derived in the section Torques and Load on Gears \n",
    "torque_g1 = torque_p1 / 2 * gear_ratio * load_factor\n",
    "rot_speed_g1 = rot_speed_p1 * velocity_ratio\n",
    "\n",
    "# Maximum torque and rotational speed on the second pinion\n",
    "# The following equations are derived in the section Torques and Load on Gears \n",
    "torque_p2 = torque_g1\n",
    "rot_speed_p2 = rot_speed_g1\n",
    "\n",
    "# Maximum torque and rotational speed on the second gear\n",
    "# The following equations are derived in the section Torques and Load on Gears \n",
    "torque_g2 = 2 * torque_p2 * gear_ratio * load_factor\n",
    "rot_speed_g2 = rot_speed_p2 * velocity_ratio\n",
    "\n",
    "# Uses the function bending_stress defined in the folder tools in the file agma_equations.py\n",
    "# to calculate the bending and surface stresses on all the gears and pinion on the complete domain\n",
    "# As shown in the section Optimization Strategy of the report this corresponds to 1,162,851 states \n",
    "bending_stresses_p1 = agma_equations.bending_stress(Np, Ng, fw_1, torque_p1, rot_speed_p1, \n",
    "                                                    diametral_pitch=10, pinion=True, idler=True)\n",
    "surface_stresses_p1 = agma_equations.surface_stress(Np, Ng, fw_1, torque_p1, rot_speed_p1, \n",
    "                                                    diametral_pitch=10, pinion=True, idler=True)\n",
    "\n",
    "bending_stresses_g1 = agma_equations.bending_stress(Np, Ng, fw_1, torque_g1, rot_speed_g1, \n",
    "                                                    diametral_pitch=10)\n",
    "surface_stresses_g1 = agma_equations.surface_stress(Np, Ng, fw_1, torque_g1, rot_speed_g1, \n",
    "                                                    diametral_pitch=10)\n",
    "\n",
    "bending_stresses_p2 = agma_equations.bending_stress(Np, Ng, fw_2, torque_p2, rot_speed_p2, \n",
    "                                                    diametral_pitch=10, pinion=True)\n",
    "surface_stresses_p2 = agma_equations.surface_stress(Np, Ng, fw_2, torque_p2, rot_speed_p2, \n",
    "                                                    diametral_pitch=10, pinion=True)\n",
    "\n",
    "bending_stresses_g2 = agma_equations.bending_stress(Np, Ng, fw_2, torque_g2, rot_speed_g2, \n",
    "                                                    diametral_pitch=10, idler=True)\n",
    "surface_stresses_g2 = agma_equations.surface_stress(Np, Ng, fw_2, torque_g2, rot_speed_g2, \n",
    "                                                    diametral_pitch=10, idler=True)"
   ]
  },
  {
   "cell_type": "code",
   "execution_count": 4,
   "metadata": {},
   "outputs": [],
   "source": [
    "# The following code simply creates a mulit-dimensional array with a value of true \n",
    "# in indices where the constraint of the the optimization problem are satisfied and a \n",
    "# value of false in the indices where the connstraints are not met. The boolean arrays \n",
    "# are derived for each gear and pinion individually and then assembled to form a global\n",
    "# array.\n",
    "\n",
    "pinion1_design_space = np.logical_and(bending_stresses_p1 < allowable_bending_stress, \n",
    "                                     surface_stresses_p1 < allowable_surface_stress)\n",
    "\n",
    "gear1_design_space = np.logical_and(bending_stresses_g1 < allowable_bending_stress, \n",
    "                                     surface_stresses_g1 < allowable_surface_stress)\n",
    "\n",
    "pinion2_design_space = np.logical_and(bending_stresses_p2 < allowable_bending_stress, \n",
    "                                     surface_stresses_p2 < allowable_surface_stress)\n",
    "\n",
    "gear2_design_space = np.logical_and(bending_stresses_g2 < allowable_bending_stress, \n",
    "                                     surface_stresses_g2 < allowable_surface_stress)\n",
    "\n",
    "stage1_design_space = np.logical_and(gear1_design_space, pinion1_design_space)\n",
    "stage2_design_space = np.logical_and(gear2_design_space, pinion2_design_space)\n",
    "stage1_space_aug = np.repeat(stage1_design_space[:,:, np.newaxis], fw_res, axis = 2)\n",
    "stage2_space_aug = np.repeat(stage2_design_space[:, np.newaxis, :], fw_res, axis = 1)\n",
    "\n",
    "global_design_space = np.logical_and(stage1_space_aug, stage2_space_aug)"
   ]
  },
  {
   "cell_type": "code",
   "execution_count": 5,
   "metadata": {},
   "outputs": [
    {
     "name": "stdout",
     "output_type": "stream",
     "text": [
      "Total volume: 1172.51\n",
      "Number of pinion teeth: 37\n",
      "Number of gear teeth: 135.0\n",
      "Stage 1 face width: 1.304\n",
      "Stage 2 face width: 4.769\n"
     ]
    }
   ],
   "source": [
    "# The total volume for each grid in the domain is computed. This is the objective function\n",
    "# that was defined in the report in the section Objective Function of the Design Problem \n",
    "total_volume = agma_equations.total_gear_volume(Np, Ng, fw_1, fw_2, diametral_pitch=10)\n",
    "# The value of infinity is assigned to the grid points where the constraints are not \n",
    "# satisfied to exlude them from being selected as a minimum\n",
    "total_volume[np.logical_not(global_design_space)] = np.inf\n",
    "# The indices of the minimum solution that satisfies the constraints are found\n",
    "idx1, idx2, idx3 = np.unravel_index(np.argmin(total_volume), total_volume.shape)\n",
    "\n",
    "print(f\"Total volume: {np.round(total_volume[idx1, idx2, idx3], 2)}\")\n",
    "print(f\"Number of pinion teeth: {Np[idx1]}\\nNumber of gear teeth: {Ng[idx1]}\")\n",
    "print(f\"Stage 1 face width: {fw_1[idx2]}\\nStage 2 face width: {fw_2[idx3]}\")"
   ]
  }
 ],
 "metadata": {
  "kernelspec": {
   "display_name": "Python 3",
   "language": "python",
   "name": "python3"
  },
  "language_info": {
   "codemirror_mode": {
    "name": "ipython",
    "version": 3
   },
   "file_extension": ".py",
   "mimetype": "text/x-python",
   "name": "python",
   "nbconvert_exporter": "python",
   "pygments_lexer": "ipython3",
   "version": "3.11.9"
  }
 },
 "nbformat": 4,
 "nbformat_minor": 2
}
