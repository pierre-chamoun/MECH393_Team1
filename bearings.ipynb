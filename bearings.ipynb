{
 "cells": [
  {
   "cell_type": "code",
   "execution_count": 121,
   "metadata": {},
   "outputs": [],
   "source": [
    "import numpy as np"
   ]
  },
  {
   "cell_type": "markdown",
   "metadata": {},
   "source": [
    "### Forces"
   ]
  },
  {
   "cell_type": "code",
   "execution_count": 122,
   "metadata": {},
   "outputs": [],
   "source": [
    "# Bearing 1, intermediate shaft:\n",
    "Fm1_inter = 606.9533684\n",
    "Fa1_inter = 2184.16613\n",
    "\n",
    "# Bearing 2, intermediate shaft:\n",
    "Fm2_inter = 143.0977794\n",
    "Fa2_inter = 507.884393\n",
    "\n",
    "inter_shaft_speed = 20000 * np.sqrt(0.075) #rpm\n",
    "inter_revs_needed = inter_shaft_speed * 60 * 10000\n",
    "\n",
    "# Input Shaft:\n",
    "Fm1_input = 2.02\n",
    "Fa1_input = 0\n",
    "\n",
    "inp_shaft_speed = 20000\n",
    "inp_revs_needed = inp_shaft_speed * 60 * 10000\n",
    "\n",
    "\n",
    "# Output shaft, Fa = 0\n",
    "Fm1_out = 98.278\n",
    "Fm2_out = 1000 # AXIAL, SO NEED THRUST BEARING\n",
    "out_shaft_speed = 1500\n",
    "out_revs_needed = out_shaft_speed * 60 * 10000"
   ]
  },
  {
   "cell_type": "markdown",
   "metadata": {},
   "source": [
    "### Selecting Bearing for INTERMEDIATE SHAFT"
   ]
  },
  {
   "cell_type": "code",
   "execution_count": 123,
   "metadata": {},
   "outputs": [],
   "source": [
    "# Intermediate shaft --> select roller bearing #22309 E from SKF\n",
    "bearing_inter = 2 # 2 for roller\n",
    "C_inter = 42714 # Dyna. load rating\n",
    "C0_inter = 41140 # static load rating\n",
    "SL_inter = 7000 # rpm, limiting speed\n",
    "\n",
    "Kr = 0.62 # assuming 5% failure rate"
   ]
  },
  {
   "cell_type": "markdown",
   "metadata": {},
   "source": [
    "### Selecting Bearing for INPUT SHAFT"
   ]
  },
  {
   "cell_type": "code",
   "execution_count": 124,
   "metadata": {},
   "outputs": [],
   "source": [
    "# Input shaft --> select ball bearing #61806 from SKF:\n",
    "bearing_input = 1 # ball\n",
    "C_input = 922 # Dyna. load rating\n",
    "C0_input = 652 # static load rating\n",
    "SL_input = 20000 # rpm, limiting speed\n",
    "\n",
    "Kr = 0.62 # assuming 5% failure rate"
   ]
  },
  {
   "cell_type": "markdown",
   "metadata": {},
   "source": [
    "### Selecting Bearing for OUTPUT SHAFT"
   ]
  },
  {
   "cell_type": "code",
   "execution_count": 125,
   "metadata": {},
   "outputs": [],
   "source": [
    "# Left bearing output shaft --> select ball bearing #6412 from Figure 11-23:\n",
    "bearing_output = 1 # ball\n",
    "C_output = 24279 # Dyna. load rating\n",
    "C0_output = 16624 # static load rating\n",
    "SL_output = 6300 # rpm, limiting speed\n",
    "\n",
    "Kr = 0.62 # assuming 5% failure rate\n",
    "\n",
    "# Right THRUST bearing output shaft --> #51213 from SKF:\n",
    "C_thrust = 13601\n",
    "C0_thrust = 33721\n",
    "SL_thrust = 3600"
   ]
  },
  {
   "cell_type": "markdown",
   "metadata": {},
   "source": [
    "## Projected Life"
   ]
  },
  {
   "cell_type": "code",
   "execution_count": 126,
   "metadata": {},
   "outputs": [],
   "source": [
    "def Projected_Life(C, P, Kr, bearing_type):\n",
    "    if bearing_type == 1:\n",
    "        L10 = (C/P)**3 * 1E6\n",
    "    elif bearing_type == 2:\n",
    "        L10 = (C/P)**(10/3) * 1E6\n",
    "    Lp = Kr*L10\n",
    "\n",
    "    return Lp\n",
    "\n",
    "inter1_revs = Projected_Life(C_inter, Fm1_inter + Fa1_inter, Kr, bearing_inter)\n",
    "inter2_revs = Projected_Life(C_inter, Fm2_inter + Fa2_inter, Kr, bearing_inter)\n",
    "\n",
    "input1_revs = Projected_Life(C_input, Fm1_input, Kr, bearing_input)\n",
    "\n",
    "output1_revs = Projected_Life(C_output, Fm1_out, Kr, bearing_output)\n",
    "output2_revs = Projected_Life(C_thrust, Fm2_out, Kr, bearing_output)"
   ]
  },
  {
   "cell_type": "markdown",
   "metadata": {},
   "source": [
    "## Verification - Intermediate shaft"
   ]
  },
  {
   "cell_type": "code",
   "execution_count": 127,
   "metadata": {},
   "outputs": [
    {
     "name": "stdout",
     "output_type": "stream",
     "text": [
      "Needed lifetime of revs based on speed = 3286335345.0309963\n",
      "Current lifetime of revs for bearing 1 = 5516933278.281737\n",
      "Current lifetime of revs for bearing 2 = 706418693192.7495 \n",
      "\n",
      "Current bearing choice is appropriate for bearing 1\n",
      "Current bearing choice is appropriate for bearing 2\n",
      "Limiting speed is larger than shaft speed\n"
     ]
    }
   ],
   "source": [
    "# Checking if lifetime # of revs from function above is higher than revs needed based on speed:\n",
    "print('Needed lifetime of revs based on speed =', inter_revs_needed)\n",
    "print('Current lifetime of revs for bearing 1 =', inter1_revs)\n",
    "print('Current lifetime of revs for bearing 2 =', inter2_revs, '\\n')\n",
    "\n",
    "if inter1_revs > inter_revs_needed:\n",
    "    print('Current bearing choice is appropriate for bearing 1')\n",
    "else: \n",
    "    print('Current bearing choice is NOT appropriate for bearing 1 --> TRY AGAIN')\n",
    "\n",
    "if inter2_revs > inter_revs_needed:\n",
    "    print('Current bearing choice is appropriate for bearing 2')\n",
    "else: \n",
    "    print('Current bearing choice is NOT appropriate for bearing 2 --> TRY AGAIN', '\\n')\n",
    "\n",
    "if SL_inter >= inter_shaft_speed:\n",
    "    print('Limiting speed is larger than shaft speed')\n",
    "else:\n",
    "    print('Limiting speed is LOWER than shaft speed --> TRY AGAIN')"
   ]
  },
  {
   "cell_type": "markdown",
   "metadata": {},
   "source": [
    "## Verification - Input shaft (shear is same at both ends so just use same bearing)"
   ]
  },
  {
   "cell_type": "code",
   "execution_count": 128,
   "metadata": {},
   "outputs": [
    {
     "name": "stdout",
     "output_type": "stream",
     "text": [
      "Needed lifetime of revs based on speed = 12000000000\n",
      "Current lifetime of revs for bearing = 58956316862742.06\n",
      "Current bearing choice is appropriate for bearing 1\n",
      "Limiting speed is larger than shaft speed\n"
     ]
    }
   ],
   "source": [
    "# Checking if lifetime # of revs from function above is higher than revs needed based on speed:\n",
    "print('Needed lifetime of revs based on speed =', inp_revs_needed)\n",
    "print('Current lifetime of revs for bearing =', input1_revs)\n",
    "\n",
    "\n",
    "if input1_revs > inp_revs_needed:\n",
    "    print('Current bearing choice is appropriate for bearing 1')\n",
    "else: \n",
    "    print('Current bearing choice is NOT appropriate for bearing 1 --> TRY AGAIN')\n",
    "\n",
    "if SL_input >= inp_shaft_speed:\n",
    "    print('Limiting speed is larger than shaft speed')\n",
    "else:\n",
    "    print('Limiting speed is LOWER than shaft speed --> TRY AGAIN')"
   ]
  },
  {
   "cell_type": "markdown",
   "metadata": {},
   "source": [
    "### Verification - Left Output Bearing"
   ]
  },
  {
   "cell_type": "code",
   "execution_count": 129,
   "metadata": {},
   "outputs": [
    {
     "name": "stdout",
     "output_type": "stream",
     "text": [
      "Needed lifetime of revs based on speed = 900000000\n",
      "Current lifetime of revs for bearing = 9347923408699.027\n",
      "Current bearing choice is appropriate for bearing 1\n",
      "Limiting speed is larger than shaft speed\n"
     ]
    }
   ],
   "source": [
    "# Checking if lifetime # of revs from function above is higher than revs needed based on speed:\n",
    "print('Needed lifetime of revs based on speed =', out_revs_needed)\n",
    "print('Current lifetime of revs for bearing =', output1_revs)\n",
    "\n",
    "if output1_revs > out_revs_needed:\n",
    "    print('Current bearing choice is appropriate for bearing 1')\n",
    "else: \n",
    "    print('Current bearing choice is NOT appropriate for bearing 1 --> TRY AGAIN')\n",
    "\n",
    "if SL_output >= out_shaft_speed:\n",
    "    print('Limiting speed is larger than shaft speed')\n",
    "else:\n",
    "    print('Limiting speed is LOWER than shaft speed --> TRY AGAIN')"
   ]
  },
  {
   "cell_type": "markdown",
   "metadata": {},
   "source": [
    "### Verification - Right Output Bearing"
   ]
  },
  {
   "cell_type": "code",
   "execution_count": 130,
   "metadata": {},
   "outputs": [
    {
     "name": "stdout",
     "output_type": "stream",
     "text": [
      "Needed lifetime of revs based on speed = 900000000\n",
      "Current lifetime of revs for bearing = 1559926770.89662\n",
      "Current bearing choice is appropriate for bearing 2\n",
      "Limiting speed is larger than shaft speed\n"
     ]
    }
   ],
   "source": [
    "# Checking if lifetime # of revs from function above is higher than revs needed based on speed:\n",
    "print('Needed lifetime of revs based on speed =', out_revs_needed)\n",
    "print('Current lifetime of revs for bearing =', output2_revs)\n",
    "\n",
    "if output2_revs > out_revs_needed:\n",
    "    print('Current bearing choice is appropriate for bearing 2')\n",
    "else: \n",
    "    print('Current bearing choice is NOT appropriate for bearing 2 --> TRY AGAIN')\n",
    "\n",
    "if SL_thrust >= out_shaft_speed:\n",
    "    print('Limiting speed is larger than shaft speed')\n",
    "else:\n",
    "    print('Limiting speed is LOWER than shaft speed --> TRY AGAIN')"
   ]
  }
 ],
 "metadata": {
  "kernelspec": {
   "display_name": "Python 3",
   "language": "python",
   "name": "python3"
  },
  "language_info": {
   "codemirror_mode": {
    "name": "ipython",
    "version": 3
   },
   "file_extension": ".py",
   "mimetype": "text/x-python",
   "name": "python",
   "nbconvert_exporter": "python",
   "pygments_lexer": "ipython3",
   "version": "3.11.9"
  }
 },
 "nbformat": 4,
 "nbformat_minor": 2
}
