{
 "cells": [
  {
   "cell_type": "code",
   "execution_count": 57,
   "metadata": {},
   "outputs": [],
   "source": [
    "import numpy as np\n",
    "from scipy.optimize import fsolve\n",
    "from tools.bending_equations import shaft_diameter, Kf_step, Kfs_step, Kf_key, Kfs_key, get_Sf"
   ]
  },
  {
   "cell_type": "markdown",
   "metadata": {},
   "source": [
    "#### Input Shaft"
   ]
  },
  {
   "cell_type": "code",
   "execution_count": 58,
   "metadata": {},
   "outputs": [
    {
     "name": "stdout",
     "output_type": "stream",
     "text": [
      "For the key we need:\n",
      "Diameter 1: 1.47 in\n",
      "Diameter 2: 1.72 in\n",
      "For the step we need:\n",
      "Diameter 1: 1.18 in\n",
      "Diameter 2: 1.6 in\n",
      "The diameters required for the keys are higher so choose them.\n"
     ]
    }
   ],
   "source": [
    "# The mean and alternating loads at the key and at the step of the shaft\n",
    "Ma_p1, Mm_p1, Ta_p1, Tm_p1 = 0, 2.02, 682.4464488, 2957.267945  # lb-in\n",
    "Ma_step1, Mm_step1 = 0, 0.7                                     # lb-in\n",
    "\n",
    "# Solves for the minimum diameters assuming that the critial region is the key\n",
    "# The function func bellow simply poses the system of equation as a f(x) = 0 problem\n",
    "# We want to solve for the diameter d that statisfies the function shaft_diameter \n",
    "# defined in the tools folder under the file bending_equations.py\n",
    "def func(x, *args):\n",
    "\n",
    "    return [x[0] - shaft_diameter(args[0], args[1], args[2], args[3],\n",
    "                                  Kf_key(x[0]), Kfs_key(x[0]), get_Sf(x[0])),\n",
    "            x[0] - x[1] - args[4]]\n",
    "\n",
    "diameters = fsolve(func, [1,1], args=(Ma_p1, Mm_p1, Ta_p1, Tm_p1, \n",
    "                                        -0.25))\n",
    "\n",
    "# Solves for the minimum diameters assuming that the critial region is the step\n",
    "# The function func bellow simply poses the system of equation as a f(x) = 0 problem\n",
    "# We want to solve for the diameter d that statisfies the function shaft_diameter \n",
    "# defined in the tools folder under the file bending_equations.py\n",
    "def func(x, *args):\n",
    "\n",
    "    return [x[0] - shaft_diameter(args[0], args[1], args[2], args[3],\n",
    "                                  Kf_step(x[0], x[1]), Kfs_step(x[0], x[1]), get_Sf(x[0])),\n",
    "            x[1] - args[4]]\n",
    "\n",
    "diameters_validation = fsolve(func, [1,1], args=(Ma_step1, Mm_step1, Ta_p1, Tm_p1, \n",
    "                                        1.6))\n",
    "\n",
    "# Prints the diameters obtained assuming the key is the critial region\n",
    "print(f\"For the key we need:\")\n",
    "print(f\"Diameter 1: {np.round(diameters[0], 2)} in\")\n",
    "print(f\"Diameter 2: {np.round(diameters[1], 2)} in\")\n",
    "\n",
    "# Verifies that the minimum required diamter at the steps is lower\n",
    "print(f\"For the step we need:\")\n",
    "print(f\"Diameter 1: {np.round(diameters_validation[0], 2)} in\")\n",
    "print(f\"Diameter 2: {np.round(diameters_validation[1], 2)} in\")\n",
    "print(f\"The diameters required for the keys are higher so choose them.\")"
   ]
  },
  {
   "cell_type": "markdown",
   "metadata": {},
   "source": [
    "#### Intermediate Shaft"
   ]
  },
  {
   "cell_type": "code",
   "execution_count": 59,
   "metadata": {},
   "outputs": [
    {
     "name": "stdout",
     "output_type": "stream",
     "text": [
      "For the keys we need:\n",
      "Diameter 1: 1.84 in\n",
      "Diameter 2: 2.45 in\n",
      "Diameter 3: 2.2 in\n",
      "For the steps we need:\n",
      "Diameter 1: 1.51 in\n",
      "Diameter 2: 1.94 in\n",
      "Diameter 3: 1.69 in\n",
      "The diameters required for the keys are higher so choose them.\n"
     ]
    }
   ],
   "source": [
    "# The mean and alternating loads at the keys and at the steps of the shaft\n",
    "Ma_g1, Mm_g1, Ta_g1, Tm_g1 = 232.38, 985.58, 1307.25, 5664.76   # lb-in\n",
    "Ma_p2, Mm_p2, Ta_p2, Tm_p2 = 1745.3, 7505.82, 1307.25, 5664.76  # lb-in\n",
    "Ma_step1, Mm_step1 = 346.12, 1449.46\n",
    "Ma_step2, Mm_step2 = 1166.93, 4994.19\n",
    "\n",
    "# Solves for the minimum diameters assuming that the critial regions are the keys\n",
    "# The function func bellow simply poses the system of equation as a f(x) = 0 problem\n",
    "# We want to solve for the diameter d that statisfies the function shaft_diameter \n",
    "# defined in the tools folder under the file bending_equations.py\n",
    "def func(x, *args):\n",
    "\n",
    "    return [x[0] - shaft_diameter(args[0], args[1], args[2], args[3],\n",
    "                                  Kf_key(x[0]), Kfs_key(x[0]), get_Sf(x[0])),\n",
    "            x[2] - shaft_diameter(args[4], args[5], args[6], args[7], \n",
    "                                  Kf_key(x[2]), Kfs_key(x[2]), get_Sf(x[2])),\n",
    "            x[1] - x[2] - args[8]]\n",
    "\n",
    "diameters = fsolve(func, [1,1,1], args=(Ma_g1, Mm_g1, Ta_g1, Tm_g1, \n",
    "                                        Ma_p2, Mm_p2, Ta_p2, Tm_p2, \n",
    "                                        0.25))\n",
    "\n",
    "# Solves for the minimum diameters assuming that the critial regions are the steps\n",
    "# The function func bellow simply poses the system of equation as a f(x) = 0 problem\n",
    "# We want to solve for the diameter d that statisfies the function shaft_diameter \n",
    "# defined in the tools folder under the file bending_equations.py\n",
    "def func(x, *args):\n",
    "\n",
    "    return [x[0] - shaft_diameter(args[0], args[1], args[2], args[3],\n",
    "                                  Kf_step(x[0], x[1]), Kfs_step(x[0], x[1]), get_Sf(x[0])),\n",
    "            x[2] - shaft_diameter(args[4], args[5], args[6], args[7], \n",
    "                                  Kf_step(x[2], x[1]), Kfs_step(x[2], x[1]), get_Sf(x[2])),\n",
    "            x[1] - x[2] - args[8]]\n",
    "\n",
    "diameters_validation = fsolve(func, [1,1,1], args=(Ma_step1, Mm_step1, Ta_g1, Tm_g1, \n",
    "                                        Ma_step2, Mm_step2, Ta_p2, Tm_p2, \n",
    "                                        0.25))\n",
    "\n",
    "\n",
    "# Prints the diameters obtained at the location of the keys\n",
    "print(f\"For the keys we need:\")\n",
    "print(f\"Diameter 1: {np.round(diameters[0], 2)} in\")\n",
    "print(f\"Diameter 2: {np.round(diameters[1], 2)} in\")\n",
    "print(f\"Diameter 3: {np.round(diameters[2], 2)} in\")\n",
    "\n",
    "# Verifies that the minimum required diamter at the steps is lower\n",
    "print(f\"For the steps we need:\")\n",
    "print(f\"Diameter 1: {np.round(diameters_validation[0], 2)} in\")\n",
    "print(f\"Diameter 2: {np.round(diameters_validation[1], 2)} in\")\n",
    "print(f\"Diameter 3: {np.round(diameters_validation[2], 2)} in\")\n",
    "print(f\"The diameters required for the keys are higher so choose them.\")\n"
   ]
  },
  {
   "cell_type": "markdown",
   "metadata": {},
   "source": [
    "#### Output Shaft"
   ]
  },
  {
   "cell_type": "code",
   "execution_count": 60,
   "metadata": {},
   "outputs": [
    {
     "name": "stdout",
     "output_type": "stream",
     "text": [
      "For the key we need:\n",
      "Diameter 1: 2.51 in\n",
      "Diameter 2: 2.76 in\n",
      "For the step we need:\n",
      "Diameter 1: 1.8 in\n",
      "Diameter 2: 2.05 in\n",
      "The diameters required for the keys are higher so choose them.\n"
     ]
    }
   ],
   "source": [
    "# The mean and alternating loads at the keys and at the steps of the shaft\n",
    "Ma_g2, Mm_g2, Ta_g2, Tm_g2 = 0, 352.97, 10016.3909, 43404.36059 # lb-in\n",
    "Ma_step1, Mm_step1 = 0, 118.88                  \n",
    "\n",
    "# Material propreties of 2800 Maraging Steel\n",
    "Sut_output = 390000     # psi\n",
    "Se_output = 100000      # psi\n",
    "\n",
    "# Solves for the minimum diameters assuming that the critial regions is the key\n",
    "# The function func bellow simply poses the system of equation as a f(x) = 0 problem\n",
    "# We want to solve for the diameter d that statisfies the function shaft_diameter \n",
    "# defined in the tools folder under the file bending_equations.py\n",
    "def func(x, *args):\n",
    "\n",
    "    return [x[0] - shaft_diameter(args[0], args[1], args[2], args[3],\n",
    "                                  Kf_key(x[0], Sut = Sut_output), Kfs_key(x[0], Sut = Sut_output), get_Sf(x[0], Se = Se_output), Sut = Sut_output),\n",
    "            x[0] - x[1] - args[4]]\n",
    "\n",
    "diameters = fsolve(func, [1,1], args=(Ma_g2, Mm_g2, Ta_g2, Tm_g2, \n",
    "                                        -0.25))\n",
    "\n",
    "# Solves for the minimum diameters assuming that the critial regions is the step\n",
    "# The function func bellow simply poses the system of equation as a f(x) = 0 problem\n",
    "# We want to solve for the diameter d that statisfies the function shaft_diameter \n",
    "# defined in the tools folder under the file bending_equations.py\n",
    "def func(x, *args):\n",
    "\n",
    "    return [x[0] - shaft_diameter(args[0], args[1], args[2], args[3],\n",
    "                                  Kf_step(x[0], x[1], Sut = Sut_output), Kfs_step(x[0], x[1], Sut = Sut_output), get_Sf(x[0], Se = Se_output), Sut = Sut_output),\n",
    "            x[0] - x[1] - args[4]]\n",
    "\n",
    "diameters_validation = fsolve(func, [1,1], args=(Ma_step1, Mm_step1, Ta_g2, Tm_g2, \n",
    "                                        -0.25))\n",
    "\n",
    "\n",
    "# Prints the diameters obtained assuming the key is the critial region\n",
    "print(f\"For the key we need:\")\n",
    "print(f\"Diameter 1: {np.round(diameters[0], 2)} in\")\n",
    "print(f\"Diameter 2: {np.round(diameters[1], 2)} in\")\n",
    "\n",
    "# Verifies that the minimum required diamter at the steps is lower\n",
    "print(f\"For the step we need:\")\n",
    "print(f\"Diameter 1: {np.round(diameters_validation[0], 2)} in\")\n",
    "print(f\"Diameter 2: {np.round(diameters_validation[1], 2)} in\")\n",
    "print(f\"The diameters required for the keys are higher so choose them.\")"
   ]
  }
 ],
 "metadata": {
  "kernelspec": {
   "display_name": "Python 3",
   "language": "python",
   "name": "python3"
  },
  "language_info": {
   "codemirror_mode": {
    "name": "ipython",
    "version": 3
   },
   "file_extension": ".py",
   "mimetype": "text/x-python",
   "name": "python",
   "nbconvert_exporter": "python",
   "pygments_lexer": "ipython3",
   "version": "3.11.9"
  }
 },
 "nbformat": 4,
 "nbformat_minor": 2
}
